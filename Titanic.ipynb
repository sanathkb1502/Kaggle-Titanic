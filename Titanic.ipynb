{
 "cells": [
  {
   "cell_type": "code",
   "execution_count": 1,
   "id": "657409bd",
   "metadata": {},
   "outputs": [],
   "source": [
    "import pandas as pd\n",
    "import numpy as np"
   ]
  },
  {
   "cell_type": "code",
   "execution_count": 2,
   "id": "0e8ed948",
   "metadata": {},
   "outputs": [],
   "source": [
    "df = pd.read_csv('train.csv')\n",
    "pd.set_option('display.max_columns', None)\n",
    "pd.set_option('display.max_rows', 10)\n",
    "# df.shape()\n",
    "# df.info()"
   ]
  },
  {
   "cell_type": "code",
   "execution_count": 3,
   "id": "c3a06813",
   "metadata": {},
   "outputs": [],
   "source": [
    "test_df = pd.read_csv('test.csv')\n",
    "# print(test_df.shape)\n",
    "# test_df"
   ]
  },
  {
   "cell_type": "code",
   "execution_count": 4,
   "id": "f4cb01cb",
   "metadata": {},
   "outputs": [],
   "source": [
    "def print_correlation_list(df):\n",
    "    for i in df.columns:\n",
    "        if (df[i].dtype != object):\n",
    "            print(i,\"vs survived\", df[i].corr(df['Survived']))\n",
    "            \n",
    "\n",
    "            \n",
    "            \n",
    "            \n",
    "ar = ['C','Q','S']\n",
    "def Embarked_value(embark_place):\n",
    "    return ar.index(embark_place)\n",
    "\n",
    "\n",
    "def Normalize(df,featureList):\n",
    "    \n",
    "    features = pd.DataFrame(columns = featuresList)\n",
    "    for i in featuresList:\n",
    "        features[i] = df[i]\n",
    "        if df[i].dtype in ['int64','float64']:\n",
    "            print(i)\n",
    "            median = features[i].median()\n",
    "            features[i].fillna(median,inplace=True)\n",
    "\n",
    "    features[\"Sex\"] = df['Sex'].apply(lambda x: 1 if x.lower() == 'male' else 0)\n",
    "    \n",
    "\n",
    "    \n",
    "    features.dropna(inplace = True)\n",
    "    features[\"Embarked\"] = features['Embarked'].apply(lambda x : Embarked_value(x))\n",
    "    \n",
    "#     print(features.isna().sum())\n",
    "\n",
    "    return features"
   ]
  },
  {
   "cell_type": "code",
   "execution_count": 5,
   "id": "f4262e4e",
   "metadata": {},
   "outputs": [
    {
     "name": "stdout",
     "output_type": "stream",
     "text": [
      "PassengerId\n",
      "Pclass\n",
      "Age\n",
      "SibSp\n",
      "Parch\n",
      "Fare\n",
      "Survived\n"
     ]
    }
   ],
   "source": [
    "features = pd.DataFrame()\n",
    "featuresList = [\"PassengerId\",\"Pclass\", \"Age\", \"SibSp\", \"Parch\", \"Fare\", \"Survived\",\"Embarked\"]\n",
    "features = Normalize(df,featuresList)\n",
    "# features"
   ]
  },
  {
   "cell_type": "code",
   "execution_count": 6,
   "id": "a03117bd",
   "metadata": {},
   "outputs": [],
   "source": [
    "# features.isna().sum()"
   ]
  },
  {
   "cell_type": "markdown",
   "id": "6ab71b9f",
   "metadata": {},
   "source": [
    "# Weight of Evidence Encoding (WOE)"
   ]
  },
  {
   "cell_type": "code",
   "execution_count": 7,
   "id": "829b0ec9",
   "metadata": {},
   "outputs": [],
   "source": [
    "s={}\n",
    "def add_weights_survived(x):\n",
    "    x = str(x).split()\n",
    "    val = 1/len(x)\n",
    "    \n",
    "    for i in x:\n",
    "        if i in s:\n",
    "            s[i]+=val  \n",
    "        else:\n",
    "            s[i] = val\n",
    "            \n",
    "d = {}           \n",
    "def add_weights_death(x):\n",
    "    x = str(x).split()\n",
    "    val = 1/len(x)\n",
    "    \n",
    "    for i in x:\n",
    "        if i in d:\n",
    "            d[i]+=val  \n",
    "        else:\n",
    "            d[i] = val\n",
    "            \n",
    "def calculate_weight_ratio(x):\n",
    "    x = str(x).split()\n",
    "    num = 0\n",
    "    den = 0\n",
    "    try:\n",
    "        for i in x:\n",
    "            if i in s:\n",
    "                num += s[i]\n",
    "                den += s[i]\n",
    "\n",
    "            if i in d:\n",
    "                den+=d[i]\n",
    "        return num/den\n",
    "    except:\n",
    "        return None\n",
    "    \n",
    "  \n",
    "        \n",
    "    "
   ]
  },
  {
   "cell_type": "code",
   "execution_count": 8,
   "id": "37c1e39f",
   "metadata": {
    "scrolled": false
   },
   "outputs": [],
   "source": [
    "#survived_df = df[df['Survived'] == 1]\n",
    "#death_df = df[df['Survived'] == 0]\n",
    "\n",
    "#survived_df['Cabin'].apply(lambda x: add_weights_survived(x))\n",
    "#death_df['Cabin'].apply(lambda x: add_weights_death(x))\n",
    "\n",
    "#survived_df\n",
    "\n",
    "#features['cabin_weight'] = df['Cabin'].apply(lambda x : calculate_weight_ratio(x))\n",
    "#features"
   ]
  },
  {
   "cell_type": "markdown",
   "id": "603b3d9a",
   "metadata": {},
   "source": [
    "# Model 0 Building\n"
   ]
  },
  {
   "cell_type": "code",
   "execution_count": 9,
   "id": "8beb0313",
   "metadata": {},
   "outputs": [],
   "source": [
    "# Import Decision Tree Classifier\n",
    "from sklearn.tree import DecisionTreeClassifier \n",
    "\n",
    " # Import train_test_split function\n",
    "from sklearn.model_selection import train_test_split\n",
    "\n",
    "#Import scikit-learn metrics module for accuracy calculation\n",
    "from sklearn import metrics"
   ]
  },
  {
   "cell_type": "code",
   "execution_count": 10,
   "id": "3b902ccd",
   "metadata": {},
   "outputs": [],
   "source": [
    "model0 = DecisionTreeClassifier(max_depth = 7)"
   ]
  },
  {
   "cell_type": "code",
   "execution_count": 11,
   "id": "c0fce826",
   "metadata": {},
   "outputs": [],
   "source": [
    "x_train = features.drop(['PassengerId','Survived'],axis=1)\n",
    "y_train = features['Survived']"
   ]
  },
  {
   "cell_type": "code",
   "execution_count": 12,
   "id": "7e868a54",
   "metadata": {},
   "outputs": [
    {
     "data": {
      "text/html": [
       "<style>#sk-container-id-1 {color: black;}#sk-container-id-1 pre{padding: 0;}#sk-container-id-1 div.sk-toggleable {background-color: white;}#sk-container-id-1 label.sk-toggleable__label {cursor: pointer;display: block;width: 100%;margin-bottom: 0;padding: 0.3em;box-sizing: border-box;text-align: center;}#sk-container-id-1 label.sk-toggleable__label-arrow:before {content: \"▸\";float: left;margin-right: 0.25em;color: #696969;}#sk-container-id-1 label.sk-toggleable__label-arrow:hover:before {color: black;}#sk-container-id-1 div.sk-estimator:hover label.sk-toggleable__label-arrow:before {color: black;}#sk-container-id-1 div.sk-toggleable__content {max-height: 0;max-width: 0;overflow: hidden;text-align: left;background-color: #f0f8ff;}#sk-container-id-1 div.sk-toggleable__content pre {margin: 0.2em;color: black;border-radius: 0.25em;background-color: #f0f8ff;}#sk-container-id-1 input.sk-toggleable__control:checked~div.sk-toggleable__content {max-height: 200px;max-width: 100%;overflow: auto;}#sk-container-id-1 input.sk-toggleable__control:checked~label.sk-toggleable__label-arrow:before {content: \"▾\";}#sk-container-id-1 div.sk-estimator input.sk-toggleable__control:checked~label.sk-toggleable__label {background-color: #d4ebff;}#sk-container-id-1 div.sk-label input.sk-toggleable__control:checked~label.sk-toggleable__label {background-color: #d4ebff;}#sk-container-id-1 input.sk-hidden--visually {border: 0;clip: rect(1px 1px 1px 1px);clip: rect(1px, 1px, 1px, 1px);height: 1px;margin: -1px;overflow: hidden;padding: 0;position: absolute;width: 1px;}#sk-container-id-1 div.sk-estimator {font-family: monospace;background-color: #f0f8ff;border: 1px dotted black;border-radius: 0.25em;box-sizing: border-box;margin-bottom: 0.5em;}#sk-container-id-1 div.sk-estimator:hover {background-color: #d4ebff;}#sk-container-id-1 div.sk-parallel-item::after {content: \"\";width: 100%;border-bottom: 1px solid gray;flex-grow: 1;}#sk-container-id-1 div.sk-label:hover label.sk-toggleable__label {background-color: #d4ebff;}#sk-container-id-1 div.sk-serial::before {content: \"\";position: absolute;border-left: 1px solid gray;box-sizing: border-box;top: 0;bottom: 0;left: 50%;z-index: 0;}#sk-container-id-1 div.sk-serial {display: flex;flex-direction: column;align-items: center;background-color: white;padding-right: 0.2em;padding-left: 0.2em;position: relative;}#sk-container-id-1 div.sk-item {position: relative;z-index: 1;}#sk-container-id-1 div.sk-parallel {display: flex;align-items: stretch;justify-content: center;background-color: white;position: relative;}#sk-container-id-1 div.sk-item::before, #sk-container-id-1 div.sk-parallel-item::before {content: \"\";position: absolute;border-left: 1px solid gray;box-sizing: border-box;top: 0;bottom: 0;left: 50%;z-index: -1;}#sk-container-id-1 div.sk-parallel-item {display: flex;flex-direction: column;z-index: 1;position: relative;background-color: white;}#sk-container-id-1 div.sk-parallel-item:first-child::after {align-self: flex-end;width: 50%;}#sk-container-id-1 div.sk-parallel-item:last-child::after {align-self: flex-start;width: 50%;}#sk-container-id-1 div.sk-parallel-item:only-child::after {width: 0;}#sk-container-id-1 div.sk-dashed-wrapped {border: 1px dashed gray;margin: 0 0.4em 0.5em 0.4em;box-sizing: border-box;padding-bottom: 0.4em;background-color: white;}#sk-container-id-1 div.sk-label label {font-family: monospace;font-weight: bold;display: inline-block;line-height: 1.2em;}#sk-container-id-1 div.sk-label-container {text-align: center;}#sk-container-id-1 div.sk-container {/* jupyter's `normalize.less` sets `[hidden] { display: none; }` but bootstrap.min.css set `[hidden] { display: none !important; }` so we also need the `!important` here to be able to override the default hidden behavior on the sphinx rendered scikit-learn.org. See: https://github.com/scikit-learn/scikit-learn/issues/21755 */display: inline-block !important;position: relative;}#sk-container-id-1 div.sk-text-repr-fallback {display: none;}</style><div id=\"sk-container-id-1\" class=\"sk-top-container\"><div class=\"sk-text-repr-fallback\"><pre>DecisionTreeClassifier(max_depth=7)</pre><b>In a Jupyter environment, please rerun this cell to show the HTML representation or trust the notebook. <br />On GitHub, the HTML representation is unable to render, please try loading this page with nbviewer.org.</b></div><div class=\"sk-container\" hidden><div class=\"sk-item\"><div class=\"sk-estimator sk-toggleable\"><input class=\"sk-toggleable__control sk-hidden--visually\" id=\"sk-estimator-id-1\" type=\"checkbox\" checked><label for=\"sk-estimator-id-1\" class=\"sk-toggleable__label sk-toggleable__label-arrow\">DecisionTreeClassifier</label><div class=\"sk-toggleable__content\"><pre>DecisionTreeClassifier(max_depth=7)</pre></div></div></div></div></div>"
      ],
      "text/plain": [
       "DecisionTreeClassifier(max_depth=7)"
      ]
     },
     "execution_count": 12,
     "metadata": {},
     "output_type": "execute_result"
    }
   ],
   "source": [
    "model0.fit(x_train,y_train)"
   ]
  },
  {
   "cell_type": "code",
   "execution_count": 13,
   "id": "c27d00a7",
   "metadata": {},
   "outputs": [],
   "source": [
    "# test_df = pd.read_csv('test.csv')\n",
    "# test_df\n"
   ]
  },
  {
   "cell_type": "code",
   "execution_count": 14,
   "id": "a0022736",
   "metadata": {},
   "outputs": [
    {
     "name": "stdout",
     "output_type": "stream",
     "text": [
      "PassengerId\n",
      "Pclass\n",
      "Age\n",
      "SibSp\n",
      "Parch\n",
      "Fare\n"
     ]
    },
    {
     "data": {
      "text/html": [
       "<div>\n",
       "<style scoped>\n",
       "    .dataframe tbody tr th:only-of-type {\n",
       "        vertical-align: middle;\n",
       "    }\n",
       "\n",
       "    .dataframe tbody tr th {\n",
       "        vertical-align: top;\n",
       "    }\n",
       "\n",
       "    .dataframe thead th {\n",
       "        text-align: right;\n",
       "    }\n",
       "</style>\n",
       "<table border=\"1\" class=\"dataframe\">\n",
       "  <thead>\n",
       "    <tr style=\"text-align: right;\">\n",
       "      <th></th>\n",
       "      <th>PassengerId</th>\n",
       "      <th>Pclass</th>\n",
       "      <th>Age</th>\n",
       "      <th>SibSp</th>\n",
       "      <th>Parch</th>\n",
       "      <th>Fare</th>\n",
       "      <th>Embarked</th>\n",
       "      <th>Sex</th>\n",
       "    </tr>\n",
       "  </thead>\n",
       "  <tbody>\n",
       "    <tr>\n",
       "      <th>0</th>\n",
       "      <td>892</td>\n",
       "      <td>3</td>\n",
       "      <td>34.5</td>\n",
       "      <td>0</td>\n",
       "      <td>0</td>\n",
       "      <td>7.8292</td>\n",
       "      <td>1</td>\n",
       "      <td>1</td>\n",
       "    </tr>\n",
       "    <tr>\n",
       "      <th>1</th>\n",
       "      <td>893</td>\n",
       "      <td>3</td>\n",
       "      <td>47.0</td>\n",
       "      <td>1</td>\n",
       "      <td>0</td>\n",
       "      <td>7.0000</td>\n",
       "      <td>2</td>\n",
       "      <td>0</td>\n",
       "    </tr>\n",
       "    <tr>\n",
       "      <th>2</th>\n",
       "      <td>894</td>\n",
       "      <td>2</td>\n",
       "      <td>62.0</td>\n",
       "      <td>0</td>\n",
       "      <td>0</td>\n",
       "      <td>9.6875</td>\n",
       "      <td>1</td>\n",
       "      <td>1</td>\n",
       "    </tr>\n",
       "    <tr>\n",
       "      <th>3</th>\n",
       "      <td>895</td>\n",
       "      <td>3</td>\n",
       "      <td>27.0</td>\n",
       "      <td>0</td>\n",
       "      <td>0</td>\n",
       "      <td>8.6625</td>\n",
       "      <td>2</td>\n",
       "      <td>1</td>\n",
       "    </tr>\n",
       "    <tr>\n",
       "      <th>4</th>\n",
       "      <td>896</td>\n",
       "      <td>3</td>\n",
       "      <td>22.0</td>\n",
       "      <td>1</td>\n",
       "      <td>1</td>\n",
       "      <td>12.2875</td>\n",
       "      <td>2</td>\n",
       "      <td>0</td>\n",
       "    </tr>\n",
       "    <tr>\n",
       "      <th>...</th>\n",
       "      <td>...</td>\n",
       "      <td>...</td>\n",
       "      <td>...</td>\n",
       "      <td>...</td>\n",
       "      <td>...</td>\n",
       "      <td>...</td>\n",
       "      <td>...</td>\n",
       "      <td>...</td>\n",
       "    </tr>\n",
       "    <tr>\n",
       "      <th>413</th>\n",
       "      <td>1305</td>\n",
       "      <td>3</td>\n",
       "      <td>27.0</td>\n",
       "      <td>0</td>\n",
       "      <td>0</td>\n",
       "      <td>8.0500</td>\n",
       "      <td>2</td>\n",
       "      <td>1</td>\n",
       "    </tr>\n",
       "    <tr>\n",
       "      <th>414</th>\n",
       "      <td>1306</td>\n",
       "      <td>1</td>\n",
       "      <td>39.0</td>\n",
       "      <td>0</td>\n",
       "      <td>0</td>\n",
       "      <td>108.9000</td>\n",
       "      <td>0</td>\n",
       "      <td>0</td>\n",
       "    </tr>\n",
       "    <tr>\n",
       "      <th>415</th>\n",
       "      <td>1307</td>\n",
       "      <td>3</td>\n",
       "      <td>38.5</td>\n",
       "      <td>0</td>\n",
       "      <td>0</td>\n",
       "      <td>7.2500</td>\n",
       "      <td>2</td>\n",
       "      <td>1</td>\n",
       "    </tr>\n",
       "    <tr>\n",
       "      <th>416</th>\n",
       "      <td>1308</td>\n",
       "      <td>3</td>\n",
       "      <td>27.0</td>\n",
       "      <td>0</td>\n",
       "      <td>0</td>\n",
       "      <td>8.0500</td>\n",
       "      <td>2</td>\n",
       "      <td>1</td>\n",
       "    </tr>\n",
       "    <tr>\n",
       "      <th>417</th>\n",
       "      <td>1309</td>\n",
       "      <td>3</td>\n",
       "      <td>27.0</td>\n",
       "      <td>1</td>\n",
       "      <td>1</td>\n",
       "      <td>22.3583</td>\n",
       "      <td>0</td>\n",
       "      <td>1</td>\n",
       "    </tr>\n",
       "  </tbody>\n",
       "</table>\n",
       "<p>418 rows × 8 columns</p>\n",
       "</div>"
      ],
      "text/plain": [
       "     PassengerId  Pclass   Age  SibSp  Parch      Fare  Embarked  Sex\n",
       "0            892       3  34.5      0      0    7.8292         1    1\n",
       "1            893       3  47.0      1      0    7.0000         2    0\n",
       "2            894       2  62.0      0      0    9.6875         1    1\n",
       "3            895       3  27.0      0      0    8.6625         2    1\n",
       "4            896       3  22.0      1      1   12.2875         2    0\n",
       "..           ...     ...   ...    ...    ...       ...       ...  ...\n",
       "413         1305       3  27.0      0      0    8.0500         2    1\n",
       "414         1306       1  39.0      0      0  108.9000         0    0\n",
       "415         1307       3  38.5      0      0    7.2500         2    1\n",
       "416         1308       3  27.0      0      0    8.0500         2    1\n",
       "417         1309       3  27.0      1      1   22.3583         0    1\n",
       "\n",
       "[418 rows x 8 columns]"
      ]
     },
     "execution_count": 14,
     "metadata": {},
     "output_type": "execute_result"
    }
   ],
   "source": [
    "featuresList = [\"PassengerId\",\"Pclass\", \"Age\", \"SibSp\", \"Parch\", \"Fare\",\"Embarked\"]\n",
    "test_features = Normalize(test_df,featuresList)\n",
    "\n",
    "#test_features['cabin_weight'] = test_df['Cabin'].apply(lambda x :  calculate_weight_ratio(x))\n",
    "#test_features['cabin_weight'].fillna(test_features['cabin_weight'].mean())\n",
    "test_features"
   ]
  },
  {
   "cell_type": "code",
   "execution_count": 15,
   "id": "70ed1ca0",
   "metadata": {},
   "outputs": [],
   "source": [
    "predictions = model0.predict(test_features.drop(['PassengerId'],axis=1))"
   ]
  },
  {
   "cell_type": "code",
   "execution_count": 16,
   "id": "36d49dcb",
   "metadata": {},
   "outputs": [],
   "source": [
    "test_features['Survived'] = predictions\n",
    "result = test_features[['PassengerId','Survived']]\n",
    "# result.shape"
   ]
  },
  {
   "cell_type": "code",
   "execution_count": 17,
   "id": "6286381a",
   "metadata": {},
   "outputs": [],
   "source": [
    "result.to_csv('result.csv',index=False)"
   ]
  }
 ],
 "metadata": {
  "kernelspec": {
   "display_name": "Python 3 (ipykernel)",
   "language": "python",
   "name": "python3"
  },
  "language_info": {
   "codemirror_mode": {
    "name": "ipython",
    "version": 3
   },
   "file_extension": ".py",
   "mimetype": "text/x-python",
   "name": "python",
   "nbconvert_exporter": "python",
   "pygments_lexer": "ipython3",
   "version": "3.11.4"
  }
 },
 "nbformat": 4,
 "nbformat_minor": 5
}
